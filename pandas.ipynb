{
 "cells": [
  {
   "cell_type": "code",
   "execution_count": 2,
   "metadata": {},
   "outputs": [],
   "source": [
    "import pandas as pd"
   ]
  },
  {
   "cell_type": "code",
   "execution_count": 3,
   "metadata": {
    "slideshow": {
     "slide_type": "slide"
    }
   },
   "outputs": [
    {
     "name": "stdout",
     "output_type": "stream",
     "text": [
      "          Model  Epochs  Learning Rate  Accuracy  Parameters   Half     DA  \\\n",
      "0  PreActResNet     100           0.05     91.45     3543204  False  False   \n",
      "1  PreActResNet     100           0.05     91.91     3543204  False  False   \n",
      "2  PreActResNet     100           0.05     92.18     4946596  False  False   \n",
      "3  PreActResNet       5           0.05     75.32     4946596  False  False   \n",
      "4  PreActResNet       5           0.05     69.86     4946596  False   True   \n",
      "5  PreActResNet       5           0.05     78.23     4946596   True   True   \n",
      "6  PreActResNet       5           0.05     77.37     4946596   True  False   \n",
      "\n",
      "   Prune Size Prune Type  Prune Ratio[%]  Time[min]   batch_size  \n",
      "0           0       None             0.3  69.486702           32  \n",
      "1           0       None             0.3  86.753453           32  \n",
      "2           0       None             0.3  63.597476           32  \n",
      "3           0       None             0.3   3.191541           32  \n",
      "4           0       None             0.3   4.330000           32  \n",
      "5           0       None             0.3   4.012347           32  \n",
      "6           0       None             0.3   2.587777           32  \n"
     ]
    }
   ],
   "source": [
    "df = pd.read_csv('project_results.txt', sep=';')\n",
    "\n",
    "columns = ['Model', 'Epochs', 'Learning Rate', 'Accuracy', 'Parameters','Half', 'DA','Prune Size', 'Prune Type', 'Prune Ratio[%]', 'Time[min]', ' batch_size']\n",
    "\n",
    "print(df[columns])\n"
   ]
  }
 ],
 "metadata": {
  "kernelspec": {
   "display_name": "base",
   "language": "python",
   "name": "python3"
  },
  "language_info": {
   "codemirror_mode": {
    "name": "ipython",
    "version": 3
   },
   "file_extension": ".py",
   "mimetype": "text/x-python",
   "name": "python",
   "nbconvert_exporter": "python",
   "pygments_lexer": "ipython3",
   "version": "3.9.16"
  }
 },
 "nbformat": 4,
 "nbformat_minor": 2
}
