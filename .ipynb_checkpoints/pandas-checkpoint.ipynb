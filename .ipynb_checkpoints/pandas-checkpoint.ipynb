{
 "cells": [
  {
   "cell_type": "code",
   "execution_count": 5,
   "metadata": {},
   "outputs": [],
   "source": [
    "import matplotlib.pyplot as plt\n",
    "import pandas as pd\n",
    "import numpy as np"
   ]
  },
  {
   "cell_type": "code",
   "execution_count": 7,
   "metadata": {
    "slideshow": {
     "slide_type": "slide"
    }
   },
   "outputs": [
    {
     "name": "stdout",
     "output_type": "stream",
     "text": [
      "          Model  Epochs  Learning Rate  Accuracy  Parameters  Factorized  \\\n",
      "0  PreActResNet      50           0.05     82.67     4946596       False   \n",
      "1  PreActResNet      50           0.05     77.35     4946596       False   \n",
      "2  PreActResNet      50           0.05     86.34     4946596       False   \n",
      "3  PreActResNet      50           0.05     87.67     4946596       False   \n",
      "4  PreActResNet      50           0.05     74.73     4946596       False   \n",
      "\n",
      "  Quantize     DA  Prune Size Prune Type  Prune Ratio[%]  Time[min]  \\\n",
      "0     None  False           0       None             0.3  36.073565   \n",
      "1     None  False           0       None             0.3  47.060758   \n",
      "2     None  False           0       None             0.3  30.790090   \n",
      "3     None  False           0       None             0.3  38.926911   \n",
      "4     None   True           0       None             0.3  58.674924   \n",
      "\n",
      "                                        Train Losses  \\\n",
      "0  [2.018340105134863, 1.4209918731004858, 1.1188...   \n",
      "1  [2.0293798461914063, 1.5616766311645507, 1.293...   \n",
      "2  [1.940704017801358, 1.3773565613247853, 1.0750...   \n",
      "3  [2.0700036704997578, 1.509705731326052, 1.2267...   \n",
      "4  [2.1640417576599122, 1.6898239392280578, 1.449...   \n",
      "\n",
      "                                         Test Losses  \\\n",
      "0  [1.5947929616934193, 1.165327381402159, 0.9750...   \n",
      "1  [1.570244285297394, 1.3217897441387176, 1.2997...   \n",
      "2  [1.5419826545533102, 1.205024537766815, 1.0294...   \n",
      "3  [1.876705453365664, 1.6978852235818211, 1.4255...   \n",
      "4  [1.7085062627792358, 1.540956667804718, 1.2645...   \n",
      "\n",
      "                                          Accuracies   batch_size  \n",
      "0  [39.73, 58.41, 65.13, 67.76, 69.63, 68.87, 75....           32  \n",
      "1  [41.02, 53.71, 53.56, 58.43, 63.16, 64.28, 65....           16  \n",
      "2  [40.78, 56.6, 65.27, 67.33, 72.12, 75.44, 77.6...           64  \n",
      "3  [32.43, 43.11, 52.21, 61.6, 70.28, 72.19, 65.2...          128  \n",
      "4  [34.57, 45.43, 57.15, 60.69, 63.78, 66.26, 65....           16  \n"
     ]
    }
   ],
   "source": [
    "file_path = 'project_results.txt'\n",
    "df = pd.read_csv(file_path, sep=';')\n",
    "\n",
    "columns = ['Model', 'Epochs', 'Learning Rate', 'Accuracy', 'Parameters','Factorized', 'Quantize', 'DA', 'Prune Size', 'Prune Type','Prune Ratio[%]', 'Time[min]', 'Train Losses', 'Test Losses','Accuracies', ' batch_size']\n",
    "\n",
    "print(df[columns])\n"
   ]
  },
  {
   "cell_type": "code",
   "execution_count": null,
   "metadata": {},
   "outputs": [],
   "source": [
    "epochs = 'Epochs'\n",
    "acc = 'Accuracy'\n",
    "lr = 'Learning Rate'\n",
    "MX = 'MixUp'\n",
    "params = 'Parameters'\n",
    "amount = 'Amount'\n"
   ]
  },
  {
   "cell_type": "code",
   "execution_count": null,
   "metadata": {},
   "outputs": [],
   "source": [
    "# Extract relevant columns\n",
    "epochs = data['Epochs']\n",
    "\n",
    "def convert_to_float(value):\n",
    "    try:\n",
    "        return float(value)\n",
    "    except ValueError:\n",
    "        return float(value.replace('[', '').replace(']', '').split(',')[0])  # Assuming the first value is correct\n",
    "\n",
    "train_losses = data['Train Losses'].apply(lambda x: [convert_to_float(val) for val in x.strip('[]').split(',')])\n",
    "test_losses = data['Test Losses'].apply(lambda x: [convert_to_float(val) for val in x.strip('[]').split(',')])\n",
    "accuracies = data['Accuracies'].apply(lambda x: [convert_to_float(val) for val in x.strip('[]').split(',')])\n",
    "\n",
    "epochs = range(1,epochs[1]+1)\n",
    "\n",
    "plt.figure(1)  \n",
    "# plt.plot(epochs, train_losses.iloc[1], label='Train Losses', color='blue', alpha=0.5)\n",
    "# plt.plot(epochs, test_losses.iloc[1], label='Test Losses', color='red', alpha=0.5)\n",
    "\n",
    "\n",
    "plt.xlabel('Epochs')\n",
    "plt.ylabel('Value')\n",
    "plt.title('Losses over Epochs')\n",
    "plt.legend()\n",
    "plt.grid(True)\n",
    "# plt.show()\n",
    "# plt.savefig('images/Project/PreAct_100_DA_losses.png')\n",
    "\n",
    "plt.figure(2)\n",
    "# plt.plot(epochs, accuracies.iloc[1], label='Accuracies')\n",
    "\n",
    "plt.title('Accuracy over Epochs')\n",
    "plt.legend()\n",
    "plt.xlabel('Epochs')\n",
    "plt.ylabel('Value')\n",
    "plt.grid(True)\n",
    "# plt.show()\n",
    "# plt.savefig('images/Project/PreAct_100_DA_accuracies.png')\n"
   ]
  }
 ],
 "metadata": {
  "kernelspec": {
   "display_name": "Python 3 (ipykernel)",
   "language": "python",
   "name": "python3"
  },
  "language_info": {
   "codemirror_mode": {
    "name": "ipython",
    "version": 3
   },
   "file_extension": ".py",
   "mimetype": "text/x-python",
   "name": "python",
   "nbconvert_exporter": "python",
   "pygments_lexer": "ipython3",
   "version": "3.9.16"
  }
 },
 "nbformat": 4,
 "nbformat_minor": 2
}
